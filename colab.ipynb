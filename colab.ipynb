{
  "cells": [
    {
      "cell_type": "markdown",
      "metadata": {
        "id": "view-in-github",
        "colab_type": "text"
      },
      "source": [
        "<a href=\"https://colab.research.google.com/github/vazsarah23/-collab/blob/main/colab.ipynb\" target=\"_parent\"><img src=\"https://colab.research.google.com/assets/colab-badge.svg\" alt=\"Open In Colab\"/></a>"
      ]
    },
    {
      "cell_type": "markdown",
      "id": "5874f98a-5745-4424-ac3c-e37360e798d8",
      "metadata": {
        "id": "5874f98a-5745-4424-ac3c-e37360e798d8"
      },
      "source": [
        "# To print array of elements\n",
        "\n",
        "### Allow the user to enter the number of elements\n",
        "### enter the elements\n",
        "### print the elements\n"
      ]
    },
    {
      "cell_type": "code",
      "execution_count": 5,
      "id": "427677ea-d395-45ca-aa01-0f94a9f58110",
      "metadata": {
        "id": "427677ea-d395-45ca-aa01-0f94a9f58110"
      },
      "outputs": [],
      "source": [
        "import numpy as np"
      ]
    },
    {
      "cell_type": "code",
      "execution_count": 2,
      "id": "0a3bc174-ec3f-480d-ac4a-b56796827178",
      "metadata": {
        "id": "0a3bc174-ec3f-480d-ac4a-b56796827178"
      },
      "outputs": [],
      "source": [
        "arr = []"
      ]
    },
    {
      "cell_type": "markdown",
      "id": "fa155525-d986-4b0f-bb18-cb0e1f0f0a86",
      "metadata": {
        "id": "fa155525-d986-4b0f-bb18-cb0e1f0f0a86"
      },
      "source": [
        "## Enter the number of elements in the array,\n",
        "#### run the below cell"
      ]
    },
    {
      "cell_type": "code",
      "execution_count": 3,
      "id": "a52d4476-ce24-4268-9f9a-bda098b0245e",
      "metadata": {
        "colab": {
          "base_uri": "https://localhost:8080/"
        },
        "id": "a52d4476-ce24-4268-9f9a-bda098b0245e",
        "outputId": "f8427b6d-5c52-44a9-bd28-9a64b338ee68"
      },
      "outputs": [
        {
          "output_type": "stream",
          "name": "stdout",
          "text": [
            "Enter the number of elements3\n",
            "number of elements is  3\n"
          ]
        }
      ],
      "source": [
        "\n",
        "num = int(input(\"Enter the number of elements\"))\n",
        "\n",
        "print('number of elements is ', num )\n"
      ]
    },
    {
      "cell_type": "markdown",
      "id": "9159a810-1818-4e1a-a9ba-817641868c4f",
      "metadata": {
        "id": "9159a810-1818-4e1a-a9ba-817641868c4f"
      },
      "source": [
        "#### Enter the elements of the array"
      ]
    },
    {
      "cell_type": "code",
      "execution_count": 4,
      "id": "1acbcfd4-9e66-4ad8-a114-776bfa66b68b",
      "metadata": {
        "colab": {
          "base_uri": "https://localhost:8080/"
        },
        "id": "1acbcfd4-9e66-4ad8-a114-776bfa66b68b",
        "outputId": "de2598c2-4131-4cd4-f4cb-884cf27e28d9"
      },
      "outputs": [
        {
          "output_type": "stream",
          "name": "stdout",
          "text": [
            "enter num2\n",
            "enter num3\n",
            "enter num2\n",
            "array is ->  [2, 3, 2]\n"
          ]
        }
      ],
      "source": [
        "\n",
        "for i in range(0,num):\n",
        "    ele = int(input('enter num'))\n",
        "    arr.append(ele)\n",
        "print('array is -> ', arr)\n"
      ]
    },
    {
      "cell_type": "code",
      "execution_count": null,
      "id": "18fbea2d-60fc-4dcf-a507-c8b62f63fd7c",
      "metadata": {
        "id": "18fbea2d-60fc-4dcf-a507-c8b62f63fd7c"
      },
      "outputs": [],
      "source": []
    }
  ],
  "metadata": {
    "kernelspec": {
      "display_name": "Python [conda env:Orange]",
      "language": "python",
      "name": "conda-env-Orange-py"
    },
    "language_info": {
      "codemirror_mode": {
        "name": "ipython",
        "version": 3
      },
      "file_extension": ".py",
      "mimetype": "text/x-python",
      "name": "python",
      "nbconvert_exporter": "python",
      "pygments_lexer": "ipython3",
      "version": "3.11.8"
    },
    "colab": {
      "provenance": [],
      "include_colab_link": true
    }
  },
  "nbformat": 4,
  "nbformat_minor": 5
}