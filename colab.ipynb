{
  "cells": [
    {
      "cell_type": "markdown",
      "metadata": {
        "id": "view-in-github",
        "colab_type": "text"
      },
      "source": [
        "<a href=\"https://colab.research.google.com/github/vazsarah23/-collab/blob/main/colab.ipynb\" target=\"_parent\"><img src=\"https://colab.research.google.com/assets/colab-badge.svg\" alt=\"Open In Colab\"/></a>"
      ]
    },
    {
      "cell_type": "markdown",
      "id": "5874f98a-5745-4424-ac3c-e37360e798d8",
      "metadata": {
        "id": "5874f98a-5745-4424-ac3c-e37360e798d8"
      },
      "source": [
        "# To print array of elements\n",
        "\n",
        "### Allow the user to enter the number of elements\n",
        "### enter the elements\n",
        "### print the elements\n"
      ]
    },
    {
      "cell_type": "code",
      "execution_count": null,
      "id": "427677ea-d395-45ca-aa01-0f94a9f58110",
      "metadata": {
        "id": "427677ea-d395-45ca-aa01-0f94a9f58110"
      },
      "outputs": [],
      "source": [
        "import numpy as np"
      ]
    },
    {
      "cell_type": "code",
      "execution_count": null,
      "id": "0a3bc174-ec3f-480d-ac4a-b56796827178",
      "metadata": {
        "id": "0a3bc174-ec3f-480d-ac4a-b56796827178"
      },
      "outputs": [],
      "source": [
        "arr = []"
      ]
    },
    {
      "cell_type": "markdown",
      "id": "fa155525-d986-4b0f-bb18-cb0e1f0f0a86",
      "metadata": {
        "id": "fa155525-d986-4b0f-bb18-cb0e1f0f0a86"
      },
      "source": [
        "## Enter the number of elements in the array,\n",
        "#### run the below cell"
      ]
    },
    {
      "cell_type": "code",
      "execution_count": null,
      "id": "a52d4476-ce24-4268-9f9a-bda098b0245e",
      "metadata": {
        "id": "a52d4476-ce24-4268-9f9a-bda098b0245e",
        "outputId": "9901c158-0d70-4752-981f-3341924375de"
      },
      "outputs": [
        {
          "name": "stdin",
          "output_type": "stream",
          "text": [
            "Enter the number of elements 5\n"
          ]
        },
        {
          "name": "stdout",
          "output_type": "stream",
          "text": [
            "number of elements is  5\n"
          ]
        }
      ],
      "source": [
        "\n",
        "num = int(input(\"Enter the number of elements\"))\n",
        "\n",
        "print('number of elements is ', num )\n"
      ]
    },
    {
      "cell_type": "markdown",
      "id": "9159a810-1818-4e1a-a9ba-817641868c4f",
      "metadata": {
        "id": "9159a810-1818-4e1a-a9ba-817641868c4f"
      },
      "source": [
        "#### Enter the elements of the array"
      ]
    },
    {
      "cell_type": "code",
      "execution_count": null,
      "id": "1acbcfd4-9e66-4ad8-a114-776bfa66b68b",
      "metadata": {
        "id": "1acbcfd4-9e66-4ad8-a114-776bfa66b68b",
        "outputId": "3cc6c4f2-e1fa-4159-9eca-0d3d864dec5b"
      },
      "outputs": [
        {
          "name": "stdin",
          "output_type": "stream",
          "text": [
            "enter num 6\n",
            "enter num 7\n",
            "enter num 6\n",
            "enter num 9\n",
            "enter num 7\n"
          ]
        },
        {
          "name": "stdout",
          "output_type": "stream",
          "text": [
            "array is ->  [6, 7, 6, 9, 7]\n"
          ]
        }
      ],
      "source": [
        "\n",
        "for i in range(0,num):\n",
        "    ele = int(input('enter num'))\n",
        "    arr.append(ele)\n",
        "print('array is -> ', arr)\n"
      ]
    },
    {
      "cell_type": "code",
      "execution_count": null,
      "id": "18fbea2d-60fc-4dcf-a507-c8b62f63fd7c",
      "metadata": {
        "id": "18fbea2d-60fc-4dcf-a507-c8b62f63fd7c"
      },
      "outputs": [],
      "source": []
    }
  ],
  "metadata": {
    "kernelspec": {
      "display_name": "Python [conda env:Orange]",
      "language": "python",
      "name": "conda-env-Orange-py"
    },
    "language_info": {
      "codemirror_mode": {
        "name": "ipython",
        "version": 3
      },
      "file_extension": ".py",
      "mimetype": "text/x-python",
      "name": "python",
      "nbconvert_exporter": "python",
      "pygments_lexer": "ipython3",
      "version": "3.11.8"
    },
    "colab": {
      "provenance": [],
      "include_colab_link": true
    }
  },
  "nbformat": 4,
  "nbformat_minor": 5
}